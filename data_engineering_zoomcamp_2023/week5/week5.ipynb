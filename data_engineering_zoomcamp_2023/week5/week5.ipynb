{
 "cells": [
  {
   "cell_type": "code",
   "execution_count": 2,
   "id": "1e3fe68e",
   "metadata": {},
   "outputs": [],
   "source": [
    "from pyspark.sql import SparkSession"
   ]
  },
  {
   "cell_type": "code",
   "execution_count": 3,
   "id": "aa4d0f76",
   "metadata": {},
   "outputs": [
    {
     "name": "stdout",
     "output_type": "stream",
     "text": [
      "23/03/06 10:32:21 WARN Utils: Your hostname, honeyeater resolves to a loopback address: 127.0.1.1; using 172.17.0.1 instead (on interface docker0)\n",
      "23/03/06 10:32:21 WARN Utils: Set SPARK_LOCAL_IP if you need to bind to another address\n"
     ]
    },
    {
     "name": "stderr",
     "output_type": "stream",
     "text": [
      "Setting default log level to \"WARN\".\n",
      "To adjust logging level use sc.setLogLevel(newLevel). For SparkR, use setLogLevel(newLevel).\n"
     ]
    },
    {
     "name": "stdout",
     "output_type": "stream",
     "text": [
      "23/03/06 10:32:22 WARN NativeCodeLoader: Unable to load native-hadoop library for your platform... using builtin-java classes where applicable\n"
     ]
    }
   ],
   "source": [
    "spark = SparkSession.builder.getOrCreate()"
   ]
  },
  {
   "cell_type": "code",
   "execution_count": 4,
   "id": "245701ae",
   "metadata": {},
   "outputs": [
    {
     "data": {
      "text/plain": [
       "'3.3.2'"
      ]
     },
     "execution_count": 4,
     "metadata": {},
     "output_type": "execute_result"
    }
   ],
   "source": [
    "spark.version"
   ]
  },
  {
   "cell_type": "markdown",
   "id": "d6277f8d",
   "metadata": {},
   "source": [
    "# Question 2"
   ]
  },
  {
   "cell_type": "code",
   "execution_count": 5,
   "id": "0319a530",
   "metadata": {},
   "outputs": [],
   "source": [
    "from pyspark.sql import types"
   ]
  },
  {
   "cell_type": "code",
   "execution_count": 11,
   "id": "2f729264",
   "metadata": {},
   "outputs": [],
   "source": [
    "schema = types.StructType([\n",
    "    types.StructField('dispatching_base_num', types.StringType(), True),\n",
    "    types.StructField('pickup_datetime', types.TimestampType(), True),\n",
    "    types.StructField('dropoff_datetime', types.TimestampType(), True),\n",
    "    types.StructField('PULocationID', types.IntegerType(), True),\n",
    "    types.StructField('DOLocationID', types.IntegerType(), True),\n",
    "    types.StructField('SR_Flag', types.StringType(), True),\n",
    "    types.StructField('Affiliated_base_number', types.StringType(), True)\n",
    "])"
   ]
  },
  {
   "cell_type": "code",
   "execution_count": 15,
   "id": "5d365f78",
   "metadata": {},
   "outputs": [],
   "source": [
    "df = spark.read \\\n",
    "    .option(\"header\", \"true\") \\\n",
    "    .schema(schema) \\\n",
    "    .csv('week5/raw_data/fhvhv_tripdata_2021-06.csv')"
   ]
  },
  {
   "cell_type": "code",
   "execution_count": 16,
   "id": "e6258b96",
   "metadata": {},
   "outputs": [],
   "source": [
    "df = df.repartition(12)"
   ]
  },
  {
   "cell_type": "code",
   "execution_count": 17,
   "id": "a9e1bae6",
   "metadata": {},
   "outputs": [
    {
     "name": "stderr",
     "output_type": "stream",
     "text": [
      "                                                                                \r"
     ]
    }
   ],
   "source": [
    "df.write.parquet('week5/parquet')"
   ]
  },
  {
   "cell_type": "code",
   "execution_count": 19,
   "id": "1c094ed5",
   "metadata": {},
   "outputs": [
    {
     "name": "stdout",
     "output_type": "stream",
     "text": [
      "total 271M\r\n",
      "-rw-r--r-- 1 apeel apeel 23M Mar  6 11:07 part-00000-742f2140-abca-453f-9a1e-0c35020f034f-c000.snappy.parquet\r\n",
      "-rw-r--r-- 1 apeel apeel 23M Mar  6 11:07 part-00001-742f2140-abca-453f-9a1e-0c35020f034f-c000.snappy.parquet\r\n",
      "-rw-r--r-- 1 apeel apeel 23M Mar  6 11:07 part-00002-742f2140-abca-453f-9a1e-0c35020f034f-c000.snappy.parquet\r\n",
      "-rw-r--r-- 1 apeel apeel 23M Mar  6 11:07 part-00003-742f2140-abca-453f-9a1e-0c35020f034f-c000.snappy.parquet\r\n",
      "-rw-r--r-- 1 apeel apeel 23M Mar  6 11:07 part-00004-742f2140-abca-453f-9a1e-0c35020f034f-c000.snappy.parquet\r\n",
      "-rw-r--r-- 1 apeel apeel 23M Mar  6 11:07 part-00005-742f2140-abca-453f-9a1e-0c35020f034f-c000.snappy.parquet\r\n",
      "-rw-r--r-- 1 apeel apeel 23M Mar  6 11:07 part-00006-742f2140-abca-453f-9a1e-0c35020f034f-c000.snappy.parquet\r\n",
      "-rw-r--r-- 1 apeel apeel 23M Mar  6 11:07 part-00007-742f2140-abca-453f-9a1e-0c35020f034f-c000.snappy.parquet\r\n",
      "-rw-r--r-- 1 apeel apeel 23M Mar  6 11:07 part-00008-742f2140-abca-453f-9a1e-0c35020f034f-c000.snappy.parquet\r\n",
      "-rw-r--r-- 1 apeel apeel 23M Mar  6 11:07 part-00009-742f2140-abca-453f-9a1e-0c35020f034f-c000.snappy.parquet\r\n",
      "-rw-r--r-- 1 apeel apeel 23M Mar  6 11:07 part-00010-742f2140-abca-453f-9a1e-0c35020f034f-c000.snappy.parquet\r\n",
      "-rw-r--r-- 1 apeel apeel 23M Mar  6 11:07 part-00011-742f2140-abca-453f-9a1e-0c35020f034f-c000.snappy.parquet\r\n",
      "-rw-r--r-- 1 apeel apeel   0 Mar  6 11:07 _SUCCESS\r\n"
     ]
    }
   ],
   "source": [
    "!ls -lh week5/parquet"
   ]
  },
  {
   "cell_type": "markdown",
   "id": "181bdf59",
   "metadata": {},
   "source": [
    "# Question 3"
   ]
  },
  {
   "cell_type": "code",
   "execution_count": 21,
   "id": "f28a4186",
   "metadata": {},
   "outputs": [],
   "source": [
    "df = spark.read.parquet('week5/parquet')"
   ]
  },
  {
   "cell_type": "code",
   "execution_count": 22,
   "id": "bb444113",
   "metadata": {},
   "outputs": [
    {
     "name": "stdout",
     "output_type": "stream",
     "text": [
      "root\n",
      " |-- dispatching_base_num: string (nullable = true)\n",
      " |-- pickup_datetime: timestamp (nullable = true)\n",
      " |-- dropoff_datetime: timestamp (nullable = true)\n",
      " |-- PULocationID: integer (nullable = true)\n",
      " |-- DOLocationID: integer (nullable = true)\n",
      " |-- SR_Flag: string (nullable = true)\n",
      " |-- Affiliated_base_number: string (nullable = true)\n",
      "\n"
     ]
    }
   ],
   "source": [
    "df.printSchema()"
   ]
  },
  {
   "cell_type": "code",
   "execution_count": 23,
   "id": "c13a40c5",
   "metadata": {},
   "outputs": [],
   "source": [
    "from pyspark.sql import functions as F"
   ]
  },
  {
   "cell_type": "code",
   "execution_count": 24,
   "id": "0365a29d",
   "metadata": {},
   "outputs": [
    {
     "data": {
      "text/plain": [
       "14961892"
      ]
     },
     "execution_count": 24,
     "metadata": {},
     "output_type": "execute_result"
    }
   ],
   "source": [
    "df.count()"
   ]
  },
  {
   "cell_type": "code",
   "execution_count": 26,
   "id": "7d829f28",
   "metadata": {},
   "outputs": [],
   "source": [
    "from datetime import date"
   ]
  },
  {
   "cell_type": "code",
   "execution_count": 29,
   "id": "dc7d0b2a",
   "metadata": {},
   "outputs": [
    {
     "name": "stdout",
     "output_type": "stream",
     "text": [
      "+--------------------+-------------------+-------------------+------------+------------+-------+----------------------+\n",
      "|dispatching_base_num|    pickup_datetime|   dropoff_datetime|PULocationID|DOLocationID|SR_Flag|Affiliated_base_number|\n",
      "+--------------------+-------------------+-------------------+------------+------------+-------+----------------------+\n",
      "|              B02879|2021-06-15 08:47:23|2021-06-15 08:59:10|         239|         230|      N|                B02879|\n",
      "|              B02872|2021-06-15 17:31:11|2021-06-15 17:48:23|         195|         144|      N|                B02872|\n",
      "|              B02764|2021-06-15 14:35:27|2021-06-15 14:57:48|          36|          61|      N|                B02764|\n",
      "|              B02510|2021-06-15 17:25:28|2021-06-15 17:32:13|         220|         220|      N|                  null|\n",
      "|              B02880|2021-06-15 15:59:55|2021-06-15 16:51:05|          10|         265|      N|                B02880|\n",
      "|              B02869|2021-06-15 19:45:48|2021-06-15 20:00:19|         140|          74|      N|                B02869|\n",
      "|              B02510|2021-06-15 11:56:14|2021-06-15 12:37:43|         256|         237|      N|                  null|\n",
      "|              B02872|2021-06-15 13:22:09|2021-06-15 13:36:50|         226|         179|      N|                B02872|\n",
      "|              B02510|2021-06-15 15:57:08|2021-06-15 16:17:18|         152|          75|      N|                  null|\n",
      "|              B02872|2021-06-15 01:24:45|2021-06-15 01:57:32|         132|         265|      N|                B02872|\n",
      "|              B02510|2021-06-15 09:42:33|2021-06-15 09:54:23|         228|         228|      N|                  null|\n",
      "|              B02875|2021-06-15 13:23:35|2021-06-15 13:39:16|         226|         138|      N|                B02875|\n",
      "|              B02510|2021-06-15 19:43:14|2021-06-15 19:59:03|         226|         164|      N|                  null|\n",
      "|              B02617|2021-06-15 12:04:45|2021-06-15 12:25:53|          90|         236|      N|                B02617|\n",
      "|              B02888|2021-06-15 18:17:44|2021-06-15 18:23:10|         205|          38|      N|                B02888|\n",
      "|              B02875|2021-06-15 07:32:31|2021-06-15 07:43:22|          36|         177|      N|                B02875|\n",
      "|              B02871|2021-06-15 13:10:57|2021-06-15 13:46:39|         130|         265|      N|                B02871|\n",
      "|              B02875|2021-06-15 14:01:28|2021-06-15 14:05:52|         174|         174|      N|                B02875|\n",
      "|              B02876|2021-06-15 09:54:42|2021-06-15 10:10:54|         122|         265|      N|                B02876|\n",
      "|              B02867|2021-06-15 21:10:00|2021-06-15 21:19:17|          48|         229|      N|                B02867|\n",
      "+--------------------+-------------------+-------------------+------------+------------+-------+----------------------+\n",
      "only showing top 20 rows\n",
      "\n"
     ]
    }
   ],
   "source": [
    "df.filter(F.to_date(df.pickup_datetime) == date(2021, 6, 15)).show()"
   ]
  },
  {
   "cell_type": "code",
   "execution_count": 28,
   "id": "484545b3",
   "metadata": {},
   "outputs": [
    {
     "name": "stderr",
     "output_type": "stream",
     "text": [
      "                                                                                \r"
     ]
    },
    {
     "data": {
      "text/plain": [
       "452470"
      ]
     },
     "execution_count": 28,
     "metadata": {},
     "output_type": "execute_result"
    }
   ],
   "source": [
    "df.filter(F.to_date(df.pickup_datetime) == date(2021, 6, 15)).count()"
   ]
  },
  {
   "cell_type": "markdown",
   "id": "2fd123f7",
   "metadata": {},
   "source": [
    "# Question 4"
   ]
  },
  {
   "cell_type": "code",
   "execution_count": 30,
   "id": "2d7162f3",
   "metadata": {},
   "outputs": [
    {
     "name": "stdout",
     "output_type": "stream",
     "text": [
      "+--------------------+-------------------+-------------------+------------+------------+-------+----------------------+--------------------+\n",
      "|dispatching_base_num|    pickup_datetime|   dropoff_datetime|PULocationID|DOLocationID|SR_Flag|Affiliated_base_number|       trip_duration|\n",
      "+--------------------+-------------------+-------------------+------------+------------+-------+----------------------+--------------------+\n",
      "|              B02617|2021-06-04 16:55:38|2021-06-04 17:01:55|         143|         142|      N|                B02617|INTERVAL '0 00:06...|\n",
      "|              B02877|2021-06-04 03:18:39|2021-06-04 03:29:53|          80|         211|      N|                B02877|INTERVAL '0 00:11...|\n",
      "|              B02883|2021-06-04 11:56:31|2021-06-04 12:15:25|          61|          17|      N|                B02883|INTERVAL '0 00:18...|\n",
      "|              B02764|2021-06-02 22:53:33|2021-06-02 23:04:04|          68|         265|      N|                B02764|INTERVAL '0 00:10...|\n",
      "|              B02875|2021-06-03 05:31:06|2021-06-03 05:48:09|         241|         242|      N|                B02875|INTERVAL '0 00:17...|\n",
      "|              B02866|2021-06-04 21:04:08|2021-06-04 21:23:47|         255|         225|      N|                B02866|INTERVAL '0 00:19...|\n",
      "|              B02887|2021-06-04 22:49:20|2021-06-04 23:00:40|          74|          42|      N|                B02887|INTERVAL '0 00:11...|\n",
      "|              B02866|2021-06-02 05:01:27|2021-06-02 05:26:18|         158|         138|      N|                B02866|INTERVAL '0 00:24...|\n",
      "|              B02875|2021-06-01 22:32:32|2021-06-01 22:47:06|          18|         119|      N|                B02875|INTERVAL '0 00:14...|\n",
      "|              B02617|2021-06-04 21:55:30|2021-06-04 22:07:36|         256|          61|      N|                B02617|INTERVAL '0 00:12...|\n",
      "|              B02510|2021-06-03 10:32:01|2021-06-03 11:04:25|         242|         167|      N|                  null|INTERVAL '0 00:32...|\n",
      "|              B02617|2021-06-01 06:24:29|2021-06-01 06:57:40|          80|         132|      N|                B02617|INTERVAL '0 00:33...|\n",
      "|              B02879|2021-06-02 18:29:25|2021-06-02 18:38:22|         236|         237|      N|                B02879|INTERVAL '0 00:08...|\n",
      "|              B02864|2021-06-04 07:11:28|2021-06-04 07:37:48|         182|          75|      N|                B02864|INTERVAL '0 00:26...|\n",
      "|              B02887|2021-06-05 10:35:47|2021-06-05 11:08:14|         126|         100|      N|                B02887|INTERVAL '0 00:32...|\n",
      "|              B02875|2021-06-03 20:35:46|2021-06-03 20:55:01|          42|         235|      N|                B02875|INTERVAL '0 00:19...|\n",
      "|              B02883|2021-06-03 17:39:46|2021-06-03 18:08:44|          61|          89|      N|                B02883|INTERVAL '0 00:28...|\n",
      "|              B02866|2021-06-05 07:06:13|2021-06-05 07:23:46|         130|         265|      N|                B02866|INTERVAL '0 00:17...|\n",
      "|              B02510|2021-06-04 21:33:08|2021-06-04 22:01:36|          79|          95|      N|                  null|INTERVAL '0 00:28...|\n",
      "|              B02875|2021-06-03 17:15:20|2021-06-03 17:25:14|         144|          79|      N|                B02875|INTERVAL '0 00:09...|\n",
      "+--------------------+-------------------+-------------------+------------+------------+-------+----------------------+--------------------+\n",
      "only showing top 20 rows\n",
      "\n"
     ]
    }
   ],
   "source": [
    "df \\\n",
    "  .withColumn('trip_duration', df.dropoff_datetime - df.pickup_datetime) \\\n",
    "  .show()"
   ]
  },
  {
   "cell_type": "code",
   "execution_count": 33,
   "id": "1f1718c7",
   "metadata": {},
   "outputs": [
    {
     "name": "stderr",
     "output_type": "stream",
     "text": [
      "                                                                                \r"
     ]
    }
   ],
   "source": [
    "longest_trip = df \\\n",
    "  .withColumn('trip_duration', df.dropoff_datetime - df.pickup_datetime) \\\n",
    "  .agg(F.max('trip_duration')) \\\n",
    "  .collect()"
   ]
  },
  {
   "cell_type": "code",
   "execution_count": 34,
   "id": "5d4cf77c",
   "metadata": {},
   "outputs": [
    {
     "data": {
      "text/plain": [
       "[Row(max(trip_duration)=datetime.timedelta(days=2, seconds=67964))]"
      ]
     },
     "execution_count": 34,
     "metadata": {},
     "output_type": "execute_result"
    }
   ],
   "source": [
    "longest_trip"
   ]
  },
  {
   "cell_type": "code",
   "execution_count": 46,
   "id": "e9545129",
   "metadata": {},
   "outputs": [],
   "source": [
    "hours = longest_trip[0]['max(trip_duration)'].total_seconds() / (60 * 60)"
   ]
  },
  {
   "cell_type": "code",
   "execution_count": 47,
   "id": "7ed1cccd",
   "metadata": {},
   "outputs": [
    {
     "data": {
      "text/plain": [
       "66.8788888888889"
      ]
     },
     "execution_count": 47,
     "metadata": {},
     "output_type": "execute_result"
    }
   ],
   "source": [
    "hours"
   ]
  },
  {
   "cell_type": "markdown",
   "id": "fb82a06d",
   "metadata": {},
   "source": [
    "# Question 6"
   ]
  },
  {
   "cell_type": "code",
   "execution_count": 48,
   "id": "285b471b",
   "metadata": {},
   "outputs": [],
   "source": [
    "df_zones = spark.read \\\n",
    "    .option(\"header\", \"true\") \\\n",
    "    .csv('data/taxi_zone_lookup.csv')"
   ]
  },
  {
   "cell_type": "code",
   "execution_count": 51,
   "id": "506302ea",
   "metadata": {},
   "outputs": [
    {
     "name": "stdout",
     "output_type": "stream",
     "text": [
      "root\n",
      " |-- LocationID: string (nullable = true)\n",
      " |-- Borough: string (nullable = true)\n",
      " |-- Zone: string (nullable = true)\n",
      " |-- service_zone: string (nullable = true)\n",
      "\n"
     ]
    }
   ],
   "source": [
    "df_zones.printSchema()"
   ]
  },
  {
   "cell_type": "code",
   "execution_count": 52,
   "id": "5447af53",
   "metadata": {},
   "outputs": [],
   "source": [
    "zones_schema = types.StructType([\n",
    "    types.StructField('LocationID', types.IntegerType(), True),\n",
    "    types.StructField('Borough', types.StringType(), True),\n",
    "    types.StructField('Zone', types.StringType(), True),\n",
    "    types.StructField('service_zone', types.StringType(), True)\n",
    "])"
   ]
  },
  {
   "cell_type": "code",
   "execution_count": 53,
   "id": "15a98eb9",
   "metadata": {},
   "outputs": [],
   "source": [
    "df_zones = spark.read \\\n",
    "    .option(\"header\", \"true\") \\\n",
    "    .schema(zones_schema) \\\n",
    "    .csv('data/taxi_zone_lookup.csv')"
   ]
  },
  {
   "cell_type": "code",
   "execution_count": 54,
   "id": "0456ed23",
   "metadata": {},
   "outputs": [
    {
     "name": "stdout",
     "output_type": "stream",
     "text": [
      "root\n",
      " |-- LocationID: integer (nullable = true)\n",
      " |-- Borough: string (nullable = true)\n",
      " |-- Zone: string (nullable = true)\n",
      " |-- service_zone: string (nullable = true)\n",
      "\n"
     ]
    }
   ],
   "source": [
    "df_zones.printSchema()"
   ]
  },
  {
   "cell_type": "code",
   "execution_count": 55,
   "id": "4dcbb51a",
   "metadata": {},
   "outputs": [],
   "source": [
    "df_with_zones = df.join(df_zones, df.PULocationID == df_zones.LocationID)"
   ]
  },
  {
   "cell_type": "code",
   "execution_count": 56,
   "id": "b5f70e41",
   "metadata": {},
   "outputs": [
    {
     "name": "stdout",
     "output_type": "stream",
     "text": [
      "+--------------------+-------------------+-------------------+------------+------------+-------+----------------------+----------+---------+--------------------+------------+\n",
      "|dispatching_base_num|    pickup_datetime|   dropoff_datetime|PULocationID|DOLocationID|SR_Flag|Affiliated_base_number|LocationID|  Borough|                Zone|service_zone|\n",
      "+--------------------+-------------------+-------------------+------------+------------+-------+----------------------+----------+---------+--------------------+------------+\n",
      "|              B02617|2021-06-04 16:55:38|2021-06-04 17:01:55|         143|         142|      N|                B02617|       143|Manhattan| Lincoln Square West| Yellow Zone|\n",
      "|              B02877|2021-06-04 03:18:39|2021-06-04 03:29:53|          80|         211|      N|                B02877|        80| Brooklyn|   East Williamsburg|   Boro Zone|\n",
      "|              B02883|2021-06-04 11:56:31|2021-06-04 12:15:25|          61|          17|      N|                B02883|        61| Brooklyn| Crown Heights North|   Boro Zone|\n",
      "|              B02764|2021-06-02 22:53:33|2021-06-02 23:04:04|          68|         265|      N|                B02764|        68|Manhattan|        East Chelsea| Yellow Zone|\n",
      "|              B02875|2021-06-03 05:31:06|2021-06-03 05:48:09|         241|         242|      N|                B02875|       241|    Bronx|Van Cortlandt Vil...|   Boro Zone|\n",
      "|              B02866|2021-06-04 21:04:08|2021-06-04 21:23:47|         255|         225|      N|                B02866|       255| Brooklyn|Williamsburg (Nor...|   Boro Zone|\n",
      "|              B02887|2021-06-04 22:49:20|2021-06-04 23:00:40|          74|          42|      N|                B02887|        74|Manhattan|   East Harlem North|   Boro Zone|\n",
      "|              B02866|2021-06-02 05:01:27|2021-06-02 05:26:18|         158|         138|      N|                B02866|       158|Manhattan|Meatpacking/West ...| Yellow Zone|\n",
      "|              B02875|2021-06-01 22:32:32|2021-06-01 22:47:06|          18|         119|      N|                B02875|        18|    Bronx|        Bedford Park|   Boro Zone|\n",
      "|              B02617|2021-06-04 21:55:30|2021-06-04 22:07:36|         256|          61|      N|                B02617|       256| Brooklyn|Williamsburg (Sou...|   Boro Zone|\n",
      "|              B02510|2021-06-03 10:32:01|2021-06-03 11:04:25|         242|         167|      N|                  null|       242|    Bronx|Van Nest/Morris Park|   Boro Zone|\n",
      "|              B02617|2021-06-01 06:24:29|2021-06-01 06:57:40|          80|         132|      N|                B02617|        80| Brooklyn|   East Williamsburg|   Boro Zone|\n",
      "|              B02879|2021-06-02 18:29:25|2021-06-02 18:38:22|         236|         237|      N|                B02879|       236|Manhattan|Upper East Side N...| Yellow Zone|\n",
      "|              B02864|2021-06-04 07:11:28|2021-06-04 07:37:48|         182|          75|      N|                B02864|       182|    Bronx|         Parkchester|   Boro Zone|\n",
      "|              B02887|2021-06-05 10:35:47|2021-06-05 11:08:14|         126|         100|      N|                B02887|       126|    Bronx|         Hunts Point|   Boro Zone|\n",
      "|              B02875|2021-06-03 20:35:46|2021-06-03 20:55:01|          42|         235|      N|                B02875|        42|Manhattan|Central Harlem North|   Boro Zone|\n",
      "|              B02883|2021-06-03 17:39:46|2021-06-03 18:08:44|          61|          89|      N|                B02883|        61| Brooklyn| Crown Heights North|   Boro Zone|\n",
      "|              B02866|2021-06-05 07:06:13|2021-06-05 07:23:46|         130|         265|      N|                B02866|       130|   Queens|             Jamaica|   Boro Zone|\n",
      "|              B02510|2021-06-04 21:33:08|2021-06-04 22:01:36|          79|          95|      N|                  null|        79|Manhattan|        East Village| Yellow Zone|\n",
      "|              B02875|2021-06-03 17:15:20|2021-06-03 17:25:14|         144|          79|      N|                B02875|       144|Manhattan| Little Italy/NoLiTa| Yellow Zone|\n",
      "+--------------------+-------------------+-------------------+------------+------------+-------+----------------------+----------+---------+--------------------+------------+\n",
      "only showing top 20 rows\n",
      "\n"
     ]
    }
   ],
   "source": [
    "df_with_zones.show()"
   ]
  },
  {
   "cell_type": "code",
   "execution_count": 58,
   "id": "53498706",
   "metadata": {},
   "outputs": [
    {
     "name": "stderr",
     "output_type": "stream",
     "text": [
      "\r",
      "[Stage 31:>                                                         (0 + 4) / 4]\r"
     ]
    },
    {
     "name": "stdout",
     "output_type": "stream",
     "text": [
      "+--------------------+------+\n",
      "|                Zone| count|\n",
      "+--------------------+------+\n",
      "|           Homecrest| 42555|\n",
      "|              Corona| 48578|\n",
      "|    Bensonhurst West| 52137|\n",
      "|         Westerleigh| 10980|\n",
      "|Charleston/Totten...|  5481|\n",
      "|          Douglaston|  8849|\n",
      "|      Newark Airport|   228|\n",
      "|          Mount Hope| 73909|\n",
      "|East Concourse/Co...| 74920|\n",
      "|      Pelham Parkway| 50198|\n",
      "|         Marble Hill| 14781|\n",
      "|           Rego Park| 38686|\n",
      "|Upper East Side S...|124621|\n",
      "|       Dyker Heights| 24657|\n",
      "|Heartland Village...| 15737|\n",
      "|   Kew Gardens Hills| 24636|\n",
      "|       Rikers Island|     3|\n",
      "|             Bayside| 28515|\n",
      "|     Jackson Heights|114413|\n",
      "|TriBeCa/Civic Center|164344|\n",
      "+--------------------+------+\n",
      "only showing top 20 rows\n",
      "\n"
     ]
    },
    {
     "name": "stderr",
     "output_type": "stream",
     "text": [
      "\r",
      "                                                                                \r"
     ]
    }
   ],
   "source": [
    "df_with_zones.groupBy('Zone').count().show()"
   ]
  },
  {
   "cell_type": "code",
   "execution_count": 61,
   "id": "edb68fd0",
   "metadata": {},
   "outputs": [
    {
     "name": "stderr",
     "output_type": "stream",
     "text": [
      "\r",
      "[Stage 46:>                                                         (0 + 4) / 4]\r"
     ]
    },
    {
     "name": "stdout",
     "output_type": "stream",
     "text": [
      "+--------------------+------+\n",
      "|                Zone| count|\n",
      "+--------------------+------+\n",
      "| Crown Heights North|231279|\n",
      "|        East Village|221244|\n",
      "|         JFK Airport|188867|\n",
      "|      Bushwick South|187929|\n",
      "|       East New York|186780|\n",
      "|TriBeCa/Civic Center|164344|\n",
      "|   LaGuardia Airport|161596|\n",
      "|            Union Sq|158937|\n",
      "|        West Village|154698|\n",
      "|             Astoria|152493|\n",
      "|     Lower East Side|151020|\n",
      "|        East Chelsea|147673|\n",
      "|Central Harlem North|146402|\n",
      "|Williamsburg (Nor...|143683|\n",
      "|          Park Slope|143594|\n",
      "|  Stuyvesant Heights|141427|\n",
      "|        Clinton East|139611|\n",
      "|West Chelsea/Huds...|139431|\n",
      "|             Bedford|138428|\n",
      "|         Murray Hill|137879|\n",
      "+--------------------+------+\n",
      "only showing top 20 rows\n",
      "\n"
     ]
    },
    {
     "name": "stderr",
     "output_type": "stream",
     "text": [
      "\r",
      "[Stage 46:=============================>                            (2 + 2) / 4]\r",
      "\r",
      "                                                                                \r"
     ]
    }
   ],
   "source": [
    "df_with_zones.groupBy('Zone').count().orderBy('count', ascending=False).show()"
   ]
  },
  {
   "cell_type": "code",
   "execution_count": null,
   "id": "1d4e082a",
   "metadata": {},
   "outputs": [],
   "source": []
  }
 ],
 "metadata": {
  "kernelspec": {
   "display_name": "Python 3 (ipykernel)",
   "language": "python",
   "name": "python3"
  },
  "language_info": {
   "codemirror_mode": {
    "name": "ipython",
    "version": 3
   },
   "file_extension": ".py",
   "mimetype": "text/x-python",
   "name": "python",
   "nbconvert_exporter": "python",
   "pygments_lexer": "ipython3",
   "version": "3.10.6"
  }
 },
 "nbformat": 4,
 "nbformat_minor": 5
}
